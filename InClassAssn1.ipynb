{
 "cells": [
  {
   "cell_type": "code",
   "execution_count": 1,
   "id": "9526572e",
   "metadata": {},
   "outputs": [],
   "source": [
    "# First in class project"
   ]
  },
  {
   "cell_type": "code",
   "execution_count": 2,
   "id": "f4d31de1",
   "metadata": {},
   "outputs": [],
   "source": [
    "#1\n",
    "#Import NumPy as np"
   ]
  },
  {
   "cell_type": "code",
   "execution_count": 3,
   "id": "5fd0c507",
   "metadata": {},
   "outputs": [],
   "source": [
    "import numpy as np"
   ]
  },
  {
   "cell_type": "code",
   "execution_count": 4,
   "id": "d4a2f48d",
   "metadata": {},
   "outputs": [],
   "source": [
    "#2 \n",
    "#Create an array of 10 zeros"
   ]
  },
  {
   "cell_type": "code",
   "execution_count": 7,
   "id": "a8e1ccf2",
   "metadata": {},
   "outputs": [
    {
     "data": {
      "text/plain": [
       "array([0., 0., 0., 0., 0., 0., 0., 0., 0., 0.])"
      ]
     },
     "execution_count": 7,
     "metadata": {},
     "output_type": "execute_result"
    }
   ],
   "source": [
    "arr0 = np.zeros(10)\n",
    "arr0"
   ]
  },
  {
   "cell_type": "code",
   "execution_count": 9,
   "id": "79501d7d",
   "metadata": {},
   "outputs": [
    {
     "data": {
      "text/plain": [
       "array([1., 1., 1., 1., 1., 1., 1., 1., 1., 1.])"
      ]
     },
     "execution_count": 9,
     "metadata": {},
     "output_type": "execute_result"
    }
   ],
   "source": [
    "#3\n",
    "#Create an array of 10 ones\n",
    "arr1 = np.ones(10)\n",
    "arr1"
   ]
  },
  {
   "cell_type": "code",
   "execution_count": 10,
   "id": "0900057d",
   "metadata": {},
   "outputs": [],
   "source": [
    "#4\n",
    "#Create an array of 10 fives"
   ]
  },
  {
   "cell_type": "code",
   "execution_count": 11,
   "id": "fc99c5bf",
   "metadata": {},
   "outputs": [
    {
     "data": {
      "text/plain": [
       "array([5., 5., 5., 5., 5., 5., 5., 5., 5., 5.])"
      ]
     },
     "execution_count": 11,
     "metadata": {},
     "output_type": "execute_result"
    }
   ],
   "source": [
    "arr5 = arr1 * 5\n",
    "arr5"
   ]
  },
  {
   "cell_type": "code",
   "execution_count": 12,
   "id": "8db4d801",
   "metadata": {},
   "outputs": [],
   "source": [
    "#5\n",
    "#Create an array of integers from 10-50"
   ]
  },
  {
   "cell_type": "code",
   "execution_count": 14,
   "id": "08ad57e2",
   "metadata": {},
   "outputs": [
    {
     "data": {
      "text/plain": [
       "array([10, 11, 12, 13, 14, 15, 16, 17, 18, 19, 20, 21, 22, 23, 24, 25, 26,\n",
       "       27, 28, 29, 30, 31, 32, 33, 34, 35, 36, 37, 38, 39, 40, 41, 42, 43,\n",
       "       44, 45, 46, 47, 48, 49, 50])"
      ]
     },
     "execution_count": 14,
     "metadata": {},
     "output_type": "execute_result"
    }
   ],
   "source": [
    "np.arange(10,51)"
   ]
  },
  {
   "cell_type": "code",
   "execution_count": 15,
   "id": "f0a9608d",
   "metadata": {},
   "outputs": [],
   "source": [
    "#6\n",
    "#Create an array of even integers from 10-50"
   ]
  },
  {
   "cell_type": "code",
   "execution_count": 16,
   "id": "b09437af",
   "metadata": {},
   "outputs": [
    {
     "data": {
      "text/plain": [
       "array([10, 12, 14, 16, 18, 20, 22, 24, 26, 28, 30, 32, 34, 36, 38, 40, 42,\n",
       "       44, 46, 48, 50])"
      ]
     },
     "execution_count": 16,
     "metadata": {},
     "output_type": "execute_result"
    }
   ],
   "source": [
    "np.arange(10,51,2)"
   ]
  },
  {
   "cell_type": "code",
   "execution_count": 17,
   "id": "f044accb",
   "metadata": {},
   "outputs": [],
   "source": [
    "#7\n",
    "#Create a 3x3 matrix with values ranging from 0-8"
   ]
  },
  {
   "cell_type": "code",
   "execution_count": 18,
   "id": "0231e490",
   "metadata": {},
   "outputs": [],
   "source": [
    "arrq7 = np.arange(0,9)"
   ]
  },
  {
   "cell_type": "code",
   "execution_count": 19,
   "id": "321da48d",
   "metadata": {},
   "outputs": [
    {
     "data": {
      "text/plain": [
       "array([[0, 1, 2],\n",
       "       [3, 4, 5],\n",
       "       [6, 7, 8]])"
      ]
     },
     "execution_count": 19,
     "metadata": {},
     "output_type": "execute_result"
    }
   ],
   "source": [
    "arrq7.reshape(3,3)"
   ]
  },
  {
   "cell_type": "code",
   "execution_count": 20,
   "id": "c2da36c7",
   "metadata": {},
   "outputs": [],
   "source": [
    "#8\n",
    "#Use NumPy to generate a random number between 0-1"
   ]
  },
  {
   "cell_type": "code",
   "execution_count": 21,
   "id": "c9f4da5d",
   "metadata": {},
   "outputs": [
    {
     "data": {
      "text/plain": [
       "array([0.05534913])"
      ]
     },
     "execution_count": 21,
     "metadata": {},
     "output_type": "execute_result"
    }
   ],
   "source": [
    "np.random.rand(1)"
   ]
  },
  {
   "cell_type": "code",
   "execution_count": 22,
   "id": "d3505a47",
   "metadata": {},
   "outputs": [],
   "source": [
    "#9\n",
    "#Create a matrix using the following statements and display it:\n",
    "#mat = np.arange(1,26).reshape(5,5)\n",
    "#mat"
   ]
  },
  {
   "cell_type": "code",
   "execution_count": 23,
   "id": "74930e72",
   "metadata": {},
   "outputs": [
    {
     "data": {
      "text/plain": [
       "array([[ 1,  2,  3,  4,  5],\n",
       "       [ 6,  7,  8,  9, 10],\n",
       "       [11, 12, 13, 14, 15],\n",
       "       [16, 17, 18, 19, 20],\n",
       "       [21, 22, 23, 24, 25]])"
      ]
     },
     "execution_count": 23,
     "metadata": {},
     "output_type": "execute_result"
    }
   ],
   "source": [
    "mat = np.arange(1,26).reshape(5,5)\n",
    "mat"
   ]
  },
  {
   "cell_type": "code",
   "execution_count": 24,
   "id": "8dd491ce",
   "metadata": {},
   "outputs": [],
   "source": [
    "#10a\n",
    "#Get the sum of all the values in the mat matrix"
   ]
  },
  {
   "cell_type": "code",
   "execution_count": 25,
   "id": "1f2d379d",
   "metadata": {},
   "outputs": [
    {
     "data": {
      "text/plain": [
       "325"
      ]
     },
     "execution_count": 25,
     "metadata": {},
     "output_type": "execute_result"
    }
   ],
   "source": [
    "np.sum(mat)"
   ]
  },
  {
   "cell_type": "code",
   "execution_count": 26,
   "id": "b715b778",
   "metadata": {},
   "outputs": [],
   "source": [
    "#10b\n",
    "#Get the standard deviation of the values in the mat matrix"
   ]
  },
  {
   "cell_type": "code",
   "execution_count": 27,
   "id": "02501ebe",
   "metadata": {},
   "outputs": [
    {
     "data": {
      "text/plain": [
       "7.211102550927978"
      ]
     },
     "execution_count": 27,
     "metadata": {},
     "output_type": "execute_result"
    }
   ],
   "source": [
    "np.std(mat)"
   ]
  },
  {
   "cell_type": "code",
   "execution_count": 28,
   "id": "416bf86f",
   "metadata": {},
   "outputs": [],
   "source": [
    "#10c\n",
    "#Create a new matrix of 25 ones named mat1"
   ]
  },
  {
   "cell_type": "code",
   "execution_count": 29,
   "id": "de5a943a",
   "metadata": {},
   "outputs": [
    {
     "data": {
      "text/plain": [
       "array([[1., 1., 1., 1., 1.],\n",
       "       [1., 1., 1., 1., 1.],\n",
       "       [1., 1., 1., 1., 1.],\n",
       "       [1., 1., 1., 1., 1.],\n",
       "       [1., 1., 1., 1., 1.]])"
      ]
     },
     "execution_count": 29,
     "metadata": {},
     "output_type": "execute_result"
    }
   ],
   "source": [
    "mat1 = np.ones(25).reshape(5,5)\n",
    "mat1"
   ]
  },
  {
   "cell_type": "code",
   "execution_count": 30,
   "id": "074e2753",
   "metadata": {},
   "outputs": [],
   "source": [
    "#10d\n",
    "# Add the values of mat to those of mat1"
   ]
  },
  {
   "cell_type": "code",
   "execution_count": 31,
   "id": "9d187356",
   "metadata": {},
   "outputs": [
    {
     "data": {
      "text/plain": [
       "array([[ 2.,  3.,  4.,  5.,  6.],\n",
       "       [ 7.,  8.,  9., 10., 11.],\n",
       "       [12., 13., 14., 15., 16.],\n",
       "       [17., 18., 19., 20., 21.],\n",
       "       [22., 23., 24., 25., 26.]])"
      ]
     },
     "execution_count": 31,
     "metadata": {},
     "output_type": "execute_result"
    }
   ],
   "source": [
    "mat + mat1"
   ]
  },
  {
   "cell_type": "code",
   "execution_count": 32,
   "id": "efe20c0a",
   "metadata": {},
   "outputs": [],
   "source": [
    "#10e\n",
    "#Multiply the values of mat to those of mat1"
   ]
  },
  {
   "cell_type": "code",
   "execution_count": 33,
   "id": "2043f4bb",
   "metadata": {},
   "outputs": [
    {
     "data": {
      "text/plain": [
       "array([[ 1.,  2.,  3.,  4.,  5.],\n",
       "       [ 6.,  7.,  8.,  9., 10.],\n",
       "       [11., 12., 13., 14., 15.],\n",
       "       [16., 17., 18., 19., 20.],\n",
       "       [21., 22., 23., 24., 25.]])"
      ]
     },
     "execution_count": 33,
     "metadata": {},
     "output_type": "execute_result"
    }
   ],
   "source": [
    "mat * mat1"
   ]
  },
  {
   "cell_type": "code",
   "execution_count": null,
   "id": "5472e64f",
   "metadata": {},
   "outputs": [],
   "source": [
    "# Finished"
   ]
  }
 ],
 "metadata": {
  "kernelspec": {
   "display_name": "Python 3 (ipykernel)",
   "language": "python",
   "name": "python3"
  },
  "language_info": {
   "codemirror_mode": {
    "name": "ipython",
    "version": 3
   },
   "file_extension": ".py",
   "mimetype": "text/x-python",
   "name": "python",
   "nbconvert_exporter": "python",
   "pygments_lexer": "ipython3",
   "version": "3.9.7"
  }
 },
 "nbformat": 4,
 "nbformat_minor": 5
}
